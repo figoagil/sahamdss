{
 "cells": [
  {
   "cell_type": "markdown",
   "metadata": {},
   "source": [
    "### Import Library\n",
    "We are going to use pandas to easily control the flow of data to be used for analysis later on. Then to easily optimize our analysis we are going to use the analysis function from Scipy"
   ]
  },
  {
   "cell_type": "code",
   "execution_count": 1,
   "metadata": {},
   "outputs": [],
   "source": [
    "import pandas as pd\n",
    "from scipy import stats\n",
    "import numpy as np\n",
    "import matplotlib as plt\n",
    "import seaborn as sns\n",
    "from scipy.linalg import cholesky, solve_triangular, cho_solve, cho_factor\n",
    "from scipy.linalg import solve\n",
    "from scipy.optimize import minimize"
   ]
  },
  {
   "cell_type": "markdown",
   "metadata": {},
   "source": [
    "### Import Historical Stock Data\n",
    "for this first prototype we are going to use strictly 3 stocks which is BBCA, ITMG, & MCAS"
   ]
  },
  {
   "cell_type": "code",
   "execution_count": 2,
   "metadata": {},
   "outputs": [],
   "source": [
    "# mount data to data frame\n",
    "df_bbca = pd.read_csv('BBCA.JK.csv')\n",
    "df_itmg = pd.read_csv('ITMG.JK.csv')\n",
    "df_mcas = pd.read_csv('MCAS.JK.csv')"
   ]
  },
  {
   "cell_type": "code",
   "execution_count": 3,
   "metadata": {},
   "outputs": [],
   "source": [
    "# Filter the column that is used\n",
    "\n",
    "df_bbca = df_bbca[['Date', 'Symbol', 'Close','Return+1']]\n",
    "df_itmg = df_itmg[['Date', 'Symbol', 'Close','Return+1']]\n",
    "df_mcas = df_mcas[['Date', 'Symbol', 'Close','Return+1']]"
   ]
  },
  {
   "cell_type": "markdown",
   "metadata": {},
   "source": [
    "### Extract Risk and Return \n",
    "Geomean for Return calculation\n",
    "Variance for Risk calculation"
   ]
  },
  {
   "cell_type": "code",
   "execution_count": 4,
   "metadata": {},
   "outputs": [],
   "source": [
    "# calculate Geometric Mean of Return\n",
    "\n",
    "def geomeanReturn(df):\n",
    "    geomean = (stats.gmean(df['Return+1'].iloc[2:-1])) - 1\n",
    "    return geomean\n",
    "\n",
    "bbca_geomean = geomeanReturn(df_bbca)\n",
    "itmg_geomean = geomeanReturn(df_itmg)\n",
    "mcas_geomean = geomeanReturn(df_mcas)"
   ]
  },
  {
   "cell_type": "code",
   "execution_count": 5,
   "metadata": {},
   "outputs": [],
   "source": [
    "# calculate variance of Return as Risk\n",
    "\n",
    "def varianceRisk(df):\n",
    "    variance = df['Return+1'].iloc[2:-1].var()\n",
    "    return variance\n",
    "\n",
    "bbca_var = varianceRisk(df_bbca)\n",
    "itmg_var = varianceRisk(df_itmg)\n",
    "mcas_var = varianceRisk(df_mcas)\n"
   ]
  },
  {
   "cell_type": "code",
   "execution_count": 6,
   "metadata": {},
   "outputs": [],
   "source": [
    "# calculate covariance of Return for each pair of stocks\n",
    "\n",
    "def covarStock(df1,df2):\n",
    "    covar = np.cov(df1['Return+1'], df2['Return+1'])\n",
    "    return covar[0][1]\n",
    "\n",
    "cov_bbca_itmg = covarStock(df_bbca,df_itmg)\n",
    "cov_bbca_mcas = covarStock(df_bbca,df_mcas)\n",
    "cov_itmg_mcas = covarStock(df_itmg,df_mcas)"
   ]
  },
  {
   "cell_type": "markdown",
   "metadata": {},
   "source": [
    "### Initiate table for Model\n",
    "in This section we will create a fitting table to initiate the Modern Portfolio Theory Analysis"
   ]
  },
  {
   "cell_type": "code",
   "execution_count": 7,
   "metadata": {},
   "outputs": [],
   "source": [
    "# Here we create a random distribution of stocks to populate the scatter plot\n",
    "\n",
    "import random\n",
    "def generateDist(n):\n",
    "    arrN = [None] * n \n",
    "    arrX, arrY, arrZ = []  , [] , []\n",
    "    for i in range(0,n):\n",
    "        arrN[i] = random.randrange(100)\n",
    "\n",
    "        x = arrN[i]\n",
    "        arrX.append((x/100))\n",
    "\n",
    "        y = random.randrange(100-arrN[i])\n",
    "        arrY.append((y/100))\n",
    "\n",
    "        z = 100 - x - y\n",
    "        arrZ.append((z/100))\n",
    "    df = pd.DataFrame(\n",
    "    {'asset_1': arrX,\n",
    "     'asset_2': arrY,\n",
    "     'asset_3': arrZ\n",
    "    })\n",
    "    return df\n",
    "df_dist = generateDist(100)"
   ]
  },
  {
   "cell_type": "code",
   "execution_count": 8,
   "metadata": {},
   "outputs": [],
   "source": [
    "df_dist['a1square'] = df_dist.asset_1 ** 2\n",
    "df_dist['a2square'] = df_dist.asset_2 ** 2\n",
    "df_dist['a3square'] = df_dist.asset_3 ** 2"
   ]
  },
  {
   "cell_type": "markdown",
   "metadata": {},
   "source": [
    "#### Create new Risk & Return column"
   ]
  },
  {
   "cell_type": "code",
   "execution_count": 9,
   "metadata": {},
   "outputs": [],
   "source": [
    "df_dist[\"risk\"] = (df_dist.a1square * bbca_var) + (df_dist.a2square * itmg_var) + (df_dist.a3square * mcas_var) + (2*(df_dist.asset_1 * df_dist.asset_2 * cov_bbca_itmg)) + (2*(df_dist.asset_1 * df_dist.asset_3 * cov_bbca_mcas)) + (2*(df_dist.asset_3 * df_dist.asset_2 * cov_itmg_mcas))"
   ]
  },
  {
   "cell_type": "code",
   "execution_count": 10,
   "metadata": {},
   "outputs": [],
   "source": [
    "df_dist[\"return\"] = (df_dist.asset_1 * bbca_geomean) + (df_dist.asset_2 * itmg_geomean) + (df_dist.asset_3 * mcas_geomean)"
   ]
  },
  {
   "cell_type": "markdown",
   "metadata": {},
   "source": [
    "#### Input the desired risk"
   ]
  },
  {
   "cell_type": "code",
   "execution_count": 11,
   "metadata": {},
   "outputs": [],
   "source": [
    "minrisk = float(input())"
   ]
  },
  {
   "cell_type": "markdown",
   "metadata": {},
   "source": [
    "### Visualize the possible distribution of Stocks"
   ]
  },
  {
   "cell_type": "code",
   "execution_count": 12,
   "metadata": {},
   "outputs": [
    {
     "data": {
      "text/plain": [
       "<matplotlib.lines.Line2D at 0x62ee5f8>"
      ]
     },
     "execution_count": 12,
     "metadata": {},
     "output_type": "execute_result"
    },
    {
     "data": {
      "image/png": "[encoded data removed]",
      "text/plain": [
       "<Figure size 432x288 with 1 Axes>"
      ]
     },
     "metadata": {
      "needs_background": "light"
     },
     "output_type": "display_data"
    }
   ],
   "source": [
    "plt.pyplot.scatter(df_dist.risk, df_dist['return'], c=\"DarkBlue\")\n",
    "plt.pyplot.axvline(x = minrisk)"
   ]
  },
  {
   "cell_type": "markdown",
   "metadata": {},
   "source": [
    "### Optimization Model\n",
    "Using all the data regarding the risk input by the user, geomean of each stock's return, and the risk for each stock's return, we now create an equation for python to optimize with the desired constraints"
   ]
  },
  {
   "cell_type": "code",
   "execution_count": 13,
   "metadata": {},
   "outputs": [],
   "source": [
    "def f(x):\n",
    "    return -(x[0]*bbca_geomean + x[1]*itmg_geomean + x[2] * mcas_geomean)"
   ]
  },
  {
   "cell_type": "code",
   "execution_count": 14,
   "metadata": {},
   "outputs": [],
   "source": [
    "# 1st Constraint\n",
    "\n",
    "# create bounds for optimization (each distribution must be in range from 0.0 - 1.0)\n",
    "\n",
    "b = (0.0 , 1.0)\n",
    "bnds = (b,b,b)"
   ]
  },
  {
   "cell_type": "code",
   "execution_count": 15,
   "metadata": {},
   "outputs": [],
   "source": [
    "# 2nd Constraint\n",
    "\n",
    "# risk must exactly be the same as the one user inputted\n",
    "\n",
    "# the sum of the distribution must be equal to one\n",
    "\n",
    "cons = ({'type': 'eq',\n",
    "         'fun' : lambda x: np.array([x[0] + x[1] + x[2] - 1,\n",
    "          ((x[0] * bbca_var) + (x[1] * itmg_var) + (x[2] * mcas_var) + \n",
    "          (2*(x[0] * x[1] * cov_bbca_itmg)) + (2*(x[0] * x[2] * cov_bbca_mcas)) + (2*(x[1] * x[2] * cov_itmg_mcas)) - minrisk)])})"
   ]
  },
  {
   "cell_type": "code",
   "execution_count": 16,
   "metadata": {},
   "outputs": [],
   "source": [
    "# pick the first row of distribution as initial value\n",
    "x0 = np.array([df_dist.asset_1[0],df_dist.asset_2[0],df_dist.asset_3[0]])\n",
    "\n",
    "# start optimization\n",
    "res = minimize(f, x0, bounds = bnds, constraints=cons)"
   ]
  },
  {
   "cell_type": "code",
   "execution_count": 17,
   "metadata": {},
   "outputs": [
    {
     "name": "stdout",
     "output_type": "stream",
     "text": [
      "BBCA : 20.0 %\n",
      "ITMG : 80.0 %\n",
      "MCAS : 0.0 %\n"
     ]
    }
   ],
   "source": [
    "print('BBCA :', str(100 * (round(res.x[0],2))) , '%')\n",
    "print('ITMG :', str(100 * round(res.x[1],2)) , '%')\n",
    "print('MCAS :', str(100 * round(res.x[2],2)) , '%')"
   ]
  },
  {
   "cell_type": "code",
   "execution_count": 18,
   "metadata": {},
   "outputs": [
    {
     "name": "stdout",
     "output_type": "stream",
     "text": [
      "Maximum Return :  0.02\n"
     ]
    }
   ],
   "source": [
    "print('Maximum Return : ', str(100 * round((-1 * res.fun), 2)), '%')"
   ]
  },
  {
   "cell_type": "code",
   "execution_count": null,
   "metadata": {},
   "outputs": [],
   "source": []
  }
 ],
 "metadata": {
  "interpreter": {
   "hash": "712eb5c2c365eb5067f254956bffede791dbef75e1196cc9964b637cd5b1114d"
  },
  "kernelspec": {
   "display_name": "Python 3.8.1 32-bit",
   "language": "python",
   "name": "python3"
  },
  "language_info": {
   "codemirror_mode": {
    "name": "ipython",
    "version": 3
   },
   "file_extension": ".py",
   "mimetype": "text/x-python",
   "name": "python",
   "nbconvert_exporter": "python",
   "pygments_lexer": "ipython3",
   "version": "3.8.1"
  },
  "orig_nbformat": 4
 },
 "nbformat": 4,
 "nbformat_minor": 2
}
