{
 "cells": [
  {
   "cell_type": "markdown",
   "metadata": {},
   "source": [
    "### Import Library\n",
    "We are going to use pandas to easily control the flow of data to be used for analysis later on. Then to easily optimize our analysis we are going to use the analysis function from Scipy"
   ]
  },
  {
   "cell_type": "code",
   "execution_count": 23,
   "metadata": {},
   "outputs": [],
   "source": [
    "import pandas as pd\n",
    "from scipy import stats\n",
    "import numpy as np\n",
    "import matplotlib as plt\n",
    "import seaborn as sns\n",
    "from scipy.linalg import cholesky, solve_triangular, cho_solve, cho_factor\n",
    "from scipy.linalg import solve\n",
    "from scipy.optimize import minimize"
   ]
  },
  {
   "cell_type": "markdown",
   "metadata": {},
   "source": [
    "### Import Historical Stock Data\n",
    "for this first prototype we are going to use strictly 3 stocks which is BBCA, ITMG, & MCAS"
   ]
  },
  {
   "cell_type": "code",
   "execution_count": 24,
   "metadata": {},
   "outputs": [],
   "source": [
    "df_bbca = pd.read_csv('BBCA.JK.csv')\n",
    "df_itmg = pd.read_csv('ITMG.JK.csv')\n",
    "df_mcas = pd.read_csv('MCAS.JK.csv')\n",
    "df_mvf  = pd.read_csv('Weight Ratio.csv')"
   ]
  },
  {
   "cell_type": "code",
   "execution_count": 25,
   "metadata": {},
   "outputs": [],
   "source": [
    "# Filter the column that is used\n",
    "\n",
    "df_bbca = df_bbca[['Date', 'Symbol', 'Close','Return+1']]\n",
    "df_itmg = df_itmg[['Date', 'Symbol', 'Close','Return+1']]\n",
    "df_mcas = df_mcas[['Date', 'Symbol', 'Close','Return+1']]"
   ]
  },
  {
   "cell_type": "markdown",
   "metadata": {},
   "source": [
    "### Extract Risk and Return \n",
    "Geomean for Return calculation\n",
    "Variance for Risk calculation"
   ]
  },
  {
   "cell_type": "code",
   "execution_count": 26,
   "metadata": {},
   "outputs": [],
   "source": [
    "def geomeanReturn(df):\n",
    "    geomean = (stats.gmean(df['Return+1'].iloc[2:-1])) - 1\n",
    "    return geomean\n",
    "\n",
    "bbca_geomean = geomeanReturn(df_bbca)\n",
    "itmg_geomean = geomeanReturn(df_itmg)\n",
    "mcas_geomean = geomeanReturn(df_mcas)"
   ]
  },
  {
   "cell_type": "code",
   "execution_count": 27,
   "metadata": {},
   "outputs": [],
   "source": [
    "def varianceRisk(df):\n",
    "    variance = df['Return+1'].iloc[2:-1].var()\n",
    "    return variance\n",
    "\n",
    "bbca_var = varianceRisk(df_bbca)\n",
    "itmg_var = varianceRisk(df_itmg)\n",
    "mcas_var = varianceRisk(df_mcas)\n"
   ]
  },
  {
   "cell_type": "code",
   "execution_count": 28,
   "metadata": {},
   "outputs": [],
   "source": [
    "def covarStock(df1,df2):\n",
    "    covar = np.cov(df1['Return+1'], df2['Return+1'])\n",
    "    return covar[0][1]\n",
    "\n",
    "cov_bbca_itmg = covarStock(df_bbca,df_itmg)\n",
    "cov_bbca_mcas = covarStock(df_bbca,df_mcas)\n",
    "cov_itmg_mcas = covarStock(df_itmg,df_mcas)"
   ]
  },
  {
   "cell_type": "code",
   "execution_count": 29,
   "metadata": {},
   "outputs": [],
   "source": [
    "import random\n",
    "def generateDist(n):\n",
    "    arrN = [None] * n \n",
    "    arrX, arrY, arrZ = []  , [] , []\n",
    "    for i in range(0,n):\n",
    "        arrN[i] = random.randrange(100)\n",
    "\n",
    "        x = arrN[i]\n",
    "        arrX.append((x/100))\n",
    "\n",
    "        y = random.randrange(100-arrN[i])\n",
    "        arrY.append((y/100))\n",
    "\n",
    "        z = 100 - x - y\n",
    "        arrZ.append((z/100))\n",
    "    df = pd.DataFrame(\n",
    "    {'asset_1': arrX,\n",
    "     'asset_2': arrY,\n",
    "     'asset_3': arrZ\n",
    "    })\n",
    "    return df\n",
    "df_dist = generateDist(100)"
   ]
  },
  {
   "cell_type": "code",
   "execution_count": 30,
   "metadata": {},
   "outputs": [],
   "source": [
    "df_dist['a1square'] = df_dist.asset_1 ** 2\n",
    "df_dist['a2square'] = df_dist.asset_2 ** 2\n",
    "df_dist['a3square'] = df_dist.asset_3 ** 2"
   ]
  },
  {
   "cell_type": "code",
   "execution_count": 31,
   "metadata": {},
   "outputs": [],
   "source": [
    "df_dist[\"risk\"] = (df_dist.a1square * bbca_var) + (df_dist.a2square * itmg_var) + (df_dist.a3square * mcas_var) + (2*(df_dist.asset_1 * df_dist.asset_2 * cov_bbca_itmg)) + (2*(df_dist.asset_1 * df_dist.asset_3 * cov_bbca_mcas)) + (2*(df_dist.asset_3 * df_dist.asset_2 * cov_itmg_mcas))"
   ]
  },
  {
   "cell_type": "code",
   "execution_count": 32,
   "metadata": {},
   "outputs": [],
   "source": [
    "df_dist[\"return\"] = (df_dist.asset_1 * bbca_geomean) + (df_dist.asset_2 * itmg_geomean) + (df_dist.asset_3 * mcas_geomean)"
   ]
  },
  {
   "cell_type": "code",
   "execution_count": 33,
   "metadata": {},
   "outputs": [],
   "source": [
    "minrisk = float(input())"
   ]
  },
  {
   "cell_type": "code",
   "execution_count": 34,
   "metadata": {},
   "outputs": [
    {
     "data": {
      "text/plain": [
       "<matplotlib.lines.Line2D at 0x1c90e940>"
      ]
     },
     "execution_count": 34,
     "metadata": {},
     "output_type": "execute_result"
    },
    {
     "data": {
      "image/png": "[encoded data removed]",
      "text/plain": [
       "<Figure size 432x288 with 1 Axes>"
      ]
     },
     "metadata": {
      "needs_background": "light"
     },
     "output_type": "display_data"
    }
   ],
   "source": [
    "plt.pyplot.scatter(df_dist.risk, df_dist['return'], c=\"DarkBlue\")\n",
    "plt.pyplot.axvline(x = minrisk)"
   ]
  },
  {
   "cell_type": "code",
   "execution_count": 35,
   "metadata": {},
   "outputs": [],
   "source": [
    "def f(x):\n",
    "    return -(x[0]*bbca_geomean + x[1]*itmg_geomean + x[2] * mcas_geomean)"
   ]
  },
  {
   "cell_type": "code",
   "execution_count": 36,
   "metadata": {},
   "outputs": [],
   "source": [
    "b = (0.0 , 1.0)\n",
    "bnds = (b,b,b)"
   ]
  },
  {
   "cell_type": "code",
   "execution_count": 37,
   "metadata": {},
   "outputs": [],
   "source": [
    "cons = ({'type': 'eq',\n",
    "         'fun' : lambda x: np.array([x[0] + x[1] + x[2] - 1,\n",
    "          ((x[0] * bbca_var) + (x[1] * itmg_var) + (x[2] * mcas_var) + \n",
    "          (2*(x[0] * x[1] * cov_bbca_itmg)) + (2*(x[0] * x[2] * cov_bbca_mcas)) + (2*(x[1] * x[2] * cov_itmg_mcas)) - minrisk)])})"
   ]
  },
  {
   "cell_type": "code",
   "execution_count": 38,
   "metadata": {},
   "outputs": [],
   "source": [
    "x0 = np.array([df_dist.asset_1[0],df_dist.asset_2[0],df_dist.asset_3[0]])\n",
    "res = minimize(f, x0, bounds = bnds, constraints=cons)"
   ]
  },
  {
   "cell_type": "code",
   "execution_count": 39,
   "metadata": {},
   "outputs": [
    {
     "data": {
      "text/plain": [
       "array([5.20194197e-01, 4.79805803e-01, 5.89805982e-16])"
      ]
     },
     "execution_count": 39,
     "metadata": {},
     "output_type": "execute_result"
    }
   ],
   "source": [
    "res.x"
   ]
  },
  {
   "cell_type": "code",
   "execution_count": 40,
   "metadata": {},
   "outputs": [
    {
     "data": {
      "text/plain": [
       "-0.013347468991979828"
      ]
     },
     "execution_count": 40,
     "metadata": {},
     "output_type": "execute_result"
    }
   ],
   "source": [
    "res.fun"
   ]
  },
  {
   "cell_type": "code",
   "execution_count": null,
   "metadata": {},
   "outputs": [],
   "source": []
  }
 ],
 "metadata": {
  "interpreter": {
   "hash": "712eb5c2c365eb5067f254956bffede791dbef75e1196cc9964b637cd5b1114d"
  },
  "kernelspec": {
   "display_name": "Python 3.8.1 32-bit",
   "language": "python",
   "name": "python3"
  },
  "language_info": {
   "codemirror_mode": {
    "name": "ipython",
    "version": 3
   },
   "file_extension": ".py",
   "mimetype": "text/x-python",
   "name": "python",
   "nbconvert_exporter": "python",
   "pygments_lexer": "ipython3",
   "version": "3.8.1"
  },
  "orig_nbformat": 4
 },
 "nbformat": 4,
 "nbformat_minor": 2
}
